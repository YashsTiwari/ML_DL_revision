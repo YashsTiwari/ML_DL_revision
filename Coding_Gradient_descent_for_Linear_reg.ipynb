{
  "nbformat": 4,
  "nbformat_minor": 0,
  "metadata": {
    "colab": {
      "provenance": [],
      "authorship_tag": "ABX9TyO8ZLprtvqX4H7Hp9bx52mj",
      "include_colab_link": true
    },
    "kernelspec": {
      "name": "python3",
      "display_name": "Python 3"
    },
    "language_info": {
      "name": "python"
    }
  },
  "cells": [
    {
      "cell_type": "markdown",
      "metadata": {
        "id": "view-in-github",
        "colab_type": "text"
      },
      "source": [
        "<a href=\"https://colab.research.google.com/github/YashsTiwari/ML_DL_revision/blob/main/Coding_Gradient_descent_for_Linear_reg.ipynb\" target=\"_parent\"><img src=\"https://colab.research.google.com/assets/colab-badge.svg\" alt=\"Open In Colab\"/></a>"
      ]
    },
    {
      "cell_type": "markdown",
      "source": [
        "# Gradient Descent for Linear Regression\n",
        "\n",
        "\n",
        "\n",
        "\n",
        "*   The line y = mx+b\n",
        "*   Assuming we have a dataset which contains x and y_true\n",
        "\n",
        "\n"
      ],
      "metadata": {
        "id": "72HuxH3lDJnM"
      }
    },
    {
      "cell_type": "code",
      "execution_count": null,
      "metadata": {
        "id": "0WRcNY8trfUm"
      },
      "outputs": [],
      "source": [
        "#init. the params\n",
        "m=0\n",
        "b=0\n",
        "lr=0.1"
      ]
    },
    {
      "cell_type": "code",
      "source": [
        "import numpy as np\n",
        "\n",
        "def predict(x,m,b):\n",
        "  return x*m+b\n",
        "\n",
        "def compute_loss(y_pred, y_true):\n",
        "  return np.mean((y_pred-y_true)**2)\n",
        "\n",
        "def compute_gradients(x, y_true, y_pred):\n",
        "  dldm = -2 * np.mean((y_true - y_pred) * x)\n",
        "  dldb = -2 * np.mean(y_true - y_pred)\n",
        "  return dldm,dldb\n",
        "\n",
        "for epochs in 400:\n",
        "  y_pred=predict(x,m,b)\n",
        "  error=compute_loss(y_pred, y_true) # only purpose is to display or understand the current loss\n",
        "  dldm,dldb=compute_gradients(x, y_true, y_pred)\n",
        "  m=m-dldm*lr\n",
        "  b=b-dldm*lr\n",
        "  if epochs % 50==0:\n",
        "    print(f\"Epoch {epochs}: Loss = {error:.4f}\")"
      ],
      "metadata": {
        "id": "QxakPFDGBtcB"
      },
      "execution_count": null,
      "outputs": []
    }
  ]
}