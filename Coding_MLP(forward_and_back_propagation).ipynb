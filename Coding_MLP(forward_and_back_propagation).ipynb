{
  "nbformat": 4,
  "nbformat_minor": 0,
  "metadata": {
    "colab": {
      "provenance": [],
      "authorship_tag": "ABX9TyMODCSP/brt/0E74hy+17jd",
      "include_colab_link": true
    },
    "kernelspec": {
      "name": "python3",
      "display_name": "Python 3"
    },
    "language_info": {
      "name": "python"
    }
  },
  "cells": [
    {
      "cell_type": "markdown",
      "metadata": {
        "id": "view-in-github",
        "colab_type": "text"
      },
      "source": [
        "<a href=\"https://colab.research.google.com/github/YashsTiwari/ML_DL_revision/blob/main/Coding_MLP(forward_and_back_propagation).ipynb\" target=\"_parent\"><img src=\"https://colab.research.google.com/assets/colab-badge.svg\" alt=\"Open In Colab\"/></a>"
      ]
    },
    {
      "cell_type": "code",
      "execution_count": 1,
      "metadata": {
        "id": "Ado7KiaR7L5Z"
      },
      "outputs": [],
      "source": [
        "import numpy as np\n",
        "\n",
        "def relu(x):\n",
        "    return np.maximum(0, x)\n",
        "def sigmoid(x):\n",
        "    return 1 / (1 + np.exp(-x))\n",
        "def relu_derivative(x):\n",
        "    return np.where(x > 0, 1, 0)"
      ]
    },
    {
      "cell_type": "code",
      "source": [
        "def forward_propagation(X, W1, b1, W2, b2):\n",
        "    Z1 = np.dot(W1, X) + b1\n",
        "    A1 = relu(Z1)\n",
        "    Z2 = np.dot(W2, A1) + b2\n",
        "    A2 = sigmoid(Z2)\n",
        "    cache = (Z1, A1, Z2, A2)\n",
        "    return A2, cache"
      ],
      "metadata": {
        "id": "hbzC_jTJ7NFx"
      },
      "execution_count": 2,
      "outputs": []
    },
    {
      "cell_type": "code",
      "source": [
        "def backward_propagation(X, Y, cache, W2):\n",
        "    m = X.shape[1]\n",
        "    Z1, A1, Z2, A2 = cache\n",
        "\n",
        "    dZ2 = A2 - Y\n",
        "    dW2 = (1/m) * np.dot(dZ2, A1.T)\n",
        "    db2 = (1/m) * np.sum(dZ2, axis=1, keepdims=True)\n",
        "    dZ1 = np.dot(W2.T, dZ2) * relu_derivative(Z1)\n",
        "    dW1 = (1/m) * np.dot(dZ1, X.T)\n",
        "    db1 = (1/m) * np.sum(dZ1, axis=1, keepdims=True)\n",
        "    return dW1, db1, dW2, db2"
      ],
      "metadata": {
        "id": "pnovS6NE-g8w"
      },
      "execution_count": 3,
      "outputs": []
    },
    {
      "cell_type": "code",
      "source": [
        "def init_params(i_size, h_size, o_size):\n",
        "    W1 = np.random.randn(h_size, i_size)\n",
        "    b1 = np.zeros((h_size, 1))\n",
        "    W2 = np.random.randn(o_size, h_size)\n",
        "    b2 = np.zeros((o_size, 1))\n",
        "    return W1, b1, W2, b2"
      ],
      "metadata": {
        "id": "Pp1HJGc0-pxN"
      },
      "execution_count": 4,
      "outputs": []
    },
    {
      "cell_type": "code",
      "source": [
        "def train(X, Y, hidden, epochs=1000, lr=0.01):\n",
        "    W1, b1, W2, b2 = init_params(X.shape[0], hidden, Y.shape[0])\n",
        "\n",
        "    for i in range(epochs):\n",
        "        y_pred, cache = forward_propagation(X, W1, b1, W2, b2)\n",
        "        dW1, db1, dW2, db2 = backward_propagation(X, Y, cache, W2)\n",
        "\n",
        "        W1 -= lr * dW1\n",
        "        b1 -= lr * db1\n",
        "        W2 -= lr * dW2\n",
        "        b2 -= lr * db2\n",
        "        if i % 50 == 0:\n",
        "            small=1e-6\n",
        "            loss = -np.mean(Y * np.log(y_pred + small) + (1 - Y) * np.log(1 - y_pred + small))\n",
        "            print(f\"Epoch {i}, Loss: {loss:.4f}\")\n",
        "    return W1, b1, W2, b2"
      ],
      "metadata": {
        "id": "U43R4zzy-yBX"
      },
      "execution_count": 5,
      "outputs": []
    },
    {
      "cell_type": "code",
      "source": [
        "def predict(X, W1, b1, W2, b2):\n",
        "    A2, _ = forward_propagation(X, W1, b1, W2, b2)\n",
        "    return np.where(A2 > 0.5, 1, 0)"
      ],
      "metadata": {
        "id": "VdehzvN0-9kz"
      },
      "execution_count": 6,
      "outputs": []
    },
    {
      "cell_type": "markdown",
      "source": [
        "##Testing the code on toy dataset"
      ],
      "metadata": {
        "id": "hT5N6Wrx_Btu"
      }
    },
    {
      "cell_type": "code",
      "source": [
        "from sklearn.datasets import make_classification\n",
        "\n",
        "X, Y = make_classification(n_samples=500, n_features=2, n_redundant=0, n_informative=2, n_classes=2, random_state=42)\n",
        "X = X.T\n",
        "Y = Y.reshape(1, -1)\n",
        "W1, b1, W2, b2 = train(X, Y, hidden=4, epochs=1000, lr=0.1)\n",
        "Y_pred = predict(X, W1, b1, W2, b2)\n",
        "accuracy = np.mean(Y_pred == Y)\n",
        "print(f\"\\nFinal Accuracy: {accuracy * 100:.2f}%\")"
      ],
      "metadata": {
        "colab": {
          "base_uri": "https://localhost:8080/"
        },
        "id": "c7sCfBOa-_yU",
        "outputId": "8684b4e6-cc19-4cc6-e8c6-77e8df15af24"
      },
      "execution_count": 7,
      "outputs": [
        {
          "output_type": "stream",
          "name": "stdout",
          "text": [
            "Epoch 0, Loss: 0.7399\n",
            "Epoch 50, Loss: 0.4063\n",
            "Epoch 100, Loss: 0.3485\n",
            "Epoch 150, Loss: 0.3218\n",
            "Epoch 200, Loss: 0.3068\n",
            "Epoch 250, Loss: 0.2974\n",
            "Epoch 300, Loss: 0.2912\n",
            "Epoch 350, Loss: 0.2864\n",
            "Epoch 400, Loss: 0.2824\n",
            "Epoch 450, Loss: 0.2788\n",
            "Epoch 500, Loss: 0.2754\n",
            "Epoch 550, Loss: 0.2721\n",
            "Epoch 600, Loss: 0.2697\n",
            "Epoch 650, Loss: 0.2675\n",
            "Epoch 700, Loss: 0.2655\n",
            "Epoch 750, Loss: 0.2635\n",
            "Epoch 800, Loss: 0.2614\n",
            "Epoch 850, Loss: 0.2593\n",
            "Epoch 900, Loss: 0.2571\n",
            "Epoch 950, Loss: 0.2548\n",
            "\n",
            "Final Accuracy: 88.40%\n"
          ]
        }
      ]
    }
  ]
}